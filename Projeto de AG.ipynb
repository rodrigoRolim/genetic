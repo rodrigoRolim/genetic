{
 "cells": [
  {
   "cell_type": "markdown",
   "metadata": {},
   "source": [
    "#### Marco Aurélio Souza\n",
    "#### Paulo R. K. Nakaima\n",
    "#### Rodrigo R. Veras"
   ]
  },
  {
   "cell_type": "markdown",
   "metadata": {},
   "source": [
    "# Projeto de algorítmos Genéticos"
   ]
  },
  {
   "cell_type": "markdown",
   "metadata": {},
   "source": [
    "### Introdução"
   ]
  },
  {
   "cell_type": "markdown",
   "metadata": {},
   "source": [
    "Algorítmos genéticos são um técnica de busca para achar soluções aproximadas em problemas de otimização e busca. Pertencem às classes de algorítmos evolutivos usados pela ciência da computação que utilizam métodos baseados nos conceitos da biologia, mais especificamente da teoria evolutiva de Charles Darwin.\n",
    "\n",
    "Os conceitos evolutivos usados pelos algorítmos genéticos são a hereditariedade, seleção, recombinação e a mutação.\n",
    "Neste presente trabalho será demonstrado uma seção com o problema proposto, uma seção solução para esse problema e os resultados. A solução utilizará os conceitos dos Algorítmos genéticos. "
   ]
  },
  {
   "cell_type": "markdown",
   "metadata": {},
   "source": [
    "### Problema proposto"
   ]
  },
  {
   "cell_type": "markdown",
   "metadata": {},
   "source": [
    "Das funções de benchmarket do artigo \"Fast Evolutionary Programming\" de Xin Yao e Yong Liu, foram escolhidas as funções F1 e F6, cujos os domínios são ambos [-100, 100] e o mínimo das duas funções é 0.\n",
    "\n",
    "O objetivo será aplicar os conceitos dos algorítmos genéticos para tentar otimizar a busca de soluções para as duas funções propostas. Neste caso, solucionar as funções é encontrar o mínimo de ambas."
   ]
  },
  {
   "cell_type": "markdown",
   "metadata": {},
   "source": [
    "### Solução proposta"
   ]
  },
  {
   "cell_type": "markdown",
   "metadata": {},
   "source": [
    "Para solucionar o problema e encontrar o ponto mínimo de cada função, serão usados os seguintes parametros evolutivos para construir o algorítmo:\n",
    "\n",
    "* **Tamnho da população:** um valor de n escolhido antes da execução do algorítmo; \n",
    "* **Tamanho do cromossomo**: 30 genes, cujos são determinados aleotoriamente entre -100 e 100 (domínio);\n",
    "* **Seleção:** será feita por roleta proporcional à aptidão baseado nos calculos de probabilidades e probabilidades acumuladas;\n",
    "* **Crossover:** simples com único ponto de corte, cuja posição será escolhida aleatoriamente entre 1 e 28. O tipo utilizado será o aritmético, cuja a taxa será de inicialmente 70% e com o valor de lambda escolhido inicialmente como 0.3; \n",
    "* **Mutação:** creep (uma mutação considerada agressiva), cujo valor usado para multiplicar com o gene que deve ser mutado será escolhido aleatoriamente entre 1 e 0. A taxa de mutação inicialmente será de 1%;\n",
    " \n",
    "Os valores são ditos iniciais por hora, pois, durante a realização dos experimentos, tais valores serão alterados a fim de se observar como se comporta o algorítmo ao longo das mudanças."
   ]
  },
  {
   "cell_type": "markdown",
   "metadata": {},
   "source": [
    "### Resultados"
   ]
  },
  {
   "cell_type": "markdown",
   "metadata": {},
   "source": [
    "A seguir serão exibidos os resultados. Primeiramente, o algorítmo genético proposto, em seguida a tabela com as valores dos parametros usados no algorítmo e finalmente os gráficos que representam a curva de convergência de cada um dos resultados."
   ]
  },
  {
   "cell_type": "markdown",
   "metadata": {},
   "source": [
    "### Código"
   ]
  },
  {
   "cell_type": "markdown",
   "metadata": {},
   "source": [
    "#### Cromossomo"
   ]
  },
  {
   "cell_type": "code",
   "execution_count": null,
   "metadata": {},
   "outputs": [],
   "source": [
    "class Cromossoma:\n",
    "  cromossoma = []\n",
    "  \n",
    "  def make_cromossoma(self):\n",
    "    for i in range(30):\n",
    "      gene = round(random.uniform(-100, 100), 3)\n",
    "      self.cromossoma.append(gene)\n",
    "    return self.cromossoma\n",
    "  \n",
    "  def empty(self):\n",
    "    self.cromossoma.clear()"
   ]
  },
  {
   "cell_type": "markdown",
   "metadata": {},
   "source": [
    "#### População"
   ]
  },
  {
   "cell_type": "code",
   "execution_count": null,
   "metadata": {},
   "outputs": [],
   "source": [
    "class Population:\n",
    "  population = []\n",
    "  def init_population(self):\n",
    "    cromossoma = Cromossoma()\n",
    "    l = 0\n",
    "    while (l < 10):\n",
    "      ind = cromossoma.make_cromossoma()\n",
    "      self.population.append(ind.copy())\n",
    "      l = 1 + l\n",
    "      cromossoma.empty()\n",
    "\n",
    "  def get_population(self):\n",
    "    return self.population\n",
    "  \n",
    "  def empty(self):\n",
    "    self.population.clear()\n",
    " "
   ]
  },
  {
   "cell_type": "markdown",
   "metadata": {},
   "source": [
    "#### Fitness da função 1"
   ]
  },
  {
   "cell_type": "code",
   "execution_count": null,
   "metadata": {},
   "outputs": [],
   "source": [
    "class Fitness:\n",
    "  fitness = 0\n",
    "  list_fitness = []\n",
    "  def set_fitness(self, population):\n",
    "    sm = 0 \n",
    "    for cromossoma in population:\n",
    "      sm = 0\n",
    "      for gene in cromossoma:\n",
    "        sm = gene**2 + sm\n",
    "\n",
    "      self.fitness = sm\n",
    "      self.list_fitness.append(self.fitness)\n",
    "      self.fitness = 0\n",
    "  def get_fitness(self):\n",
    "    return self.list_fitness\n",
    "  def empty_list_fitness(self):\n",
    "    self.list_fitness.clear()"
   ]
  },
  {
   "cell_type": "markdown",
   "metadata": {},
   "source": [
    "#### Fitness da função 2"
   ]
  },
  {
   "cell_type": "code",
   "execution_count": null,
   "metadata": {},
   "outputs": [],
   "source": [
    "class Fitness:\n",
    "  fitness = 0\n",
    "  list_fitness = []\n",
    "  def set_fitness(self, population):\n",
    "    sm = 0\n",
    "    for cromossoma in population:\n",
    "      sm = 0\n",
    "      for gene in cromossoma:\n",
    "      \n",
    "        sm += (gene + 0.5)\n",
    "      \n",
    "      self.fitness = round(sm, 2)\n",
    "      self.list_fitness.append(self.fitness)\n",
    "      self.fitness = 0\n",
    "      \n",
    "  def get_fitness(self):\n",
    "    return self.list_fitness\n",
    "  def empty_list_fitness(self):\n",
    "    self.list_fitness.clear()"
   ]
  },
  {
   "cell_type": "markdown",
   "metadata": {},
   "source": [
    "#### Seleção"
   ]
  },
  {
   "cell_type": "code",
   "execution_count": null,
   "metadata": {},
   "outputs": [],
   "source": [
    "import random\n",
    "\n",
    "class Selection:\n",
    "\n",
    "  probabilities = []\n",
    "  probability = 0\n",
    "  acumulateds = [] \n",
    "  randomNumbers = []\n",
    "  newPopulation = []\n",
    "\n",
    "  def calcule_probabilities(self, fitnessList):\n",
    "    self.probabilities.clear()\n",
    "    sumFitness = 0\n",
    "    for fitness in fitnessList:\n",
    "      sumFitness = fitness + sumFitness\n",
    "  \n",
    "    for fitness in fitnessList:\n",
    "      self.probability = fitness/sumFitness\n",
    "      self.probabilities.append(self.probability)\n",
    "\n",
    "  def acumulated_probabilities(self):\n",
    "    self.acumulateds.clear()\n",
    "    for i in range(len(self.probabilities)):\n",
    "      sumProbs = 0\n",
    "      for j in range(i, -1, -1):\n",
    "        sumProbs = self.probabilities[j] + sumProbs\n",
    "      self.acumulateds.append(sumProbs)\n",
    "  \n",
    "  def generate_random_numbers(self, n):\n",
    "    self.randomNumbers.clear()\n",
    "    \n",
    "    for i in range(n):\n",
    "      self.randomNumbers.append(round(random.uniform(-1, 1), 3))\n",
    "\n",
    "  def run_roulette(self, fitnessList):\n",
    "    positions = []\n",
    "    \n",
    "    self.calcule_probabilities(fitnessList)\n",
    "    self.acumulated_probabilities()\n",
    "    self.generate_random_numbers(len(fitnessList))\n",
    "\n",
    "    for randomNumber in self.randomNumbers:\n",
    "      for acumulated in self.acumulateds:\n",
    "        if(acumulated >= randomNumber):\n",
    "          positions.append(self.acumulateds.index(acumulated))\n",
    "          break\n",
    "\n",
    "    return positions\n",
    "\n",
    "  def get_new_population(self, fitnessList, oldPopulation):\n",
    "    positions = self.run_roulette(fitnessList)\n",
    "    self.newPopulation.clear()\n",
    "    \n",
    "    for position in positions:\n",
    "      self.newPopulation.append(oldPopulation[position])\n",
    "    \n",
    "    return self.newPopulation"
   ]
  },
  {
   "cell_type": "markdown",
   "metadata": {},
   "source": [
    "#### Crossover e Mutação"
   ]
  },
  {
   "cell_type": "code",
   "execution_count": null,
   "metadata": {},
   "outputs": [],
   "source": [
    "class Reproduction:\n",
    "  \n",
    "  _Pc = 0.8\n",
    "  _Pm = 0.01\n",
    "  def generate_random_numbers(self, n):\n",
    "    randomNumbers = [] \n",
    "    # n é o tamanho da população\n",
    "    # gerar número aleatórios de 0 a 1\n",
    "    for i in range(n):\n",
    "      randomNumbers.append(round(random.uniform(0, 1), 3))\n",
    "    return randomNumbers\n",
    "  \n",
    "  def selecting_individuals(self, n):\n",
    "    positions = []\n",
    "    randomNumbers = self.generate_random_numbers(n)\n",
    "\n",
    "    for randomNumber in randomNumbers:\n",
    "      if(randomNumber <= self._Pc):\n",
    "        positions.append(randomNumbers.index(randomNumber))\n",
    "\n",
    "    return positions\n",
    "  \n",
    "  def defining_engageds(self, n):\n",
    "    positions = self.selecting_individuals(n)\n",
    "    engageds = []\n",
    "\n",
    "    i = 0\n",
    "    if(len(positions)%2 == 0):\n",
    "      while(i < len(positions)):\n",
    "        \n",
    "        engageds.append([positions[i], positions[i + 1]])\n",
    "        i = i + 2\n",
    "    else:\n",
    "      while(i < len(positions) - 1):\n",
    "        engageds.append([positions[i], positions[i + 1]])\n",
    "        i = i + 2\n",
    "\n",
    "    return engageds # pares cruzantes de posiçoes da nova população\n",
    "  \n",
    "  def crossover(self, newPopulation):\n",
    "    \n",
    "    engageds = self.defining_engageds(len(newPopulation))\n",
    "    \n",
    "    for engaged in engageds:\n",
    "      crossover_point = random.randint(1, 29)\n",
    "      \n",
    "      cromossoma_1 = newPopulation[engaged[0]]\n",
    "      cromossoma_2 = newPopulation[engaged[1]]\n",
    "\n",
    "      cromossoma_copy_1 = cromossoma_1.copy()\n",
    "      cromossoma_copy_2 = cromossoma_2.copy()\n",
    "      \n",
    "      childs = arithmetic_crossover.crossover(cromossoma_copy_1,\n",
    "                                              cromossoma_copy_2, 0.3)\n",
    "\n",
    "      newPopulation[engaged[0]] = childs[0]\n",
    "      newPopulation[engaged[1]] = childs[1]\n",
    "    \n",
    "    return newPopulation\n",
    "  \n",
    "  def mutation(self, population):\n",
    "    row_length = len(population)\n",
    "    column_length = len(population[0])\n",
    "\n",
    "    mutation_points = []\n",
    "    matrix_rand = np.zeros([row_length,column_length], dtype=float)\n",
    "\n",
    "    for i in range(row_length): \n",
    "      for j in range(column_length):\n",
    "        \n",
    "        matrix_rand[i][j] = round(random.uniform(0, 1), 3)\n",
    "        \n",
    "        if (matrix_rand[i][j] <= self._Pm):\n",
    "          mutation_points.append([i, j])\n",
    "    \n",
    "    for point in mutation_points:\n",
    "      \n",
    "      current_gene = population[point[0]][point[1]]\n",
    "      population[point[0]][point[1]] = current_gene * 0.02\n",
    "    \n",
    "    return population\n"
   ]
  },
  {
   "cell_type": "markdown",
   "metadata": {},
   "source": [
    "#### Sobreviventes"
   ]
  },
  {
   "cell_type": "code",
   "execution_count": null,
   "metadata": {},
   "outputs": [],
   "source": [
    "class Elitism:\n",
    "\n",
    "\n",
    "  def saveTheBest(self, population_initial, population_final, \n",
    "                  fit_initial, fit_final):\n",
    "    best_fit_initial = max(fit_initial)\n",
    "    best_fit_final = max(fit_final)\n",
    "\n",
    "    worst_fit_final = min(fit_final)\n",
    "    position_worst_final = fit_final.index(worst_fit_final)\n",
    "    position_best_initial = fit_initial.index(worst_fit_final)\n",
    "     \n",
    "    cromossoma_tam = len(population_final[position_best_initial])\n",
    "      \n",
    "    for i in range(0, cromossoma_tam):\n",
    "      population_final[position_worst_final][i] = \n",
    "                    population_initial[position_best_initial][i]\n",
    "\n",
    "   \n",
    "\n",
    "    return population_final"
   ]
  },
  {
   "cell_type": "markdown",
   "metadata": {},
   "source": [
    "#### Main"
   ]
  },
  {
   "cell_type": "code",
   "execution_count": null,
   "metadata": {},
   "outputs": [],
   "source": [
    "from cromossoma import Cromossoma\n",
    "from population import Population\n",
    "from fitness import Fitness\n",
    "from selection import Selection\n",
    "from reproduction import Reproduction\n",
    "from elitism import Elitism\n",
    "from plot import Plot\n",
    "import matplotlib.pyplot as plt\n",
    "from matplotlib.figure import Figure\n",
    "\n",
    "\n",
    "fig1 = plt.figure(FigureClass=Plot, figtitle='fitness 1 (min)')\n",
    "fig2 = plt.figure(FigureClass=Plot, figtitle='fitness 1 (max)')\n",
    "fig3 = plt.figure(FigureClass=Plot, figtitle='fitness 1 (total)')\n",
    "\n",
    "ax = fig1.subplots()\n",
    "ay = fig2.subplots()\n",
    "az = fig3.subplots()\n",
    "\n",
    "min_fitness = []\n",
    "max_fitness = []\n",
    "total_fitness = []\n",
    "pop = []\n",
    "result_pop = []\n",
    "elitism = Elitism()\n",
    "population = Population() \n",
    "population.init_population()\n",
    "fit = Fitness()\n",
    "reproduction = Reproduction()\n",
    "selection = Selection()\n",
    "pop = population.get_population()\n",
    "i = 0\n",
    "\n",
    "try:\n",
    "  while (i < 200):\n",
    "    \n",
    "    fit.set_fitness(pop.copy())\n",
    "    fit_initial = fit.get_fitness()\n",
    "    total_fitness.extend(fit.get_fitness())\n",
    "    min_fitness.append(min(fit.get_fitness()))\n",
    "    max_fitness.append(max(fit.get_fitness()))\n",
    "\n",
    "    # stop condition\n",
    "    if 0.0 in fit.get_fitness():\n",
    "      #print(min_fitness)\n",
    "      #print(pop.copy())\n",
    "      print(fit_initial)\n",
    "      ax.plot(min_fitness, 'g')\n",
    "      ay.plot(max_fitness, 'r')\n",
    "      az.plot(total_fitness)\n",
    "      plt.show()\n",
    "      print(\"achei\")\n",
    "      break\n",
    "    # selected population\n",
    "    selected_population = selection.get_new_population(fit.get_fitness().copy(),\n",
    "                                                       pop.copy())\n",
    "    fit.empty_list_fitness()\n",
    "    # diversity operations\n",
    "    new_pop = reproduction.crossover(selected_population.copy())\n",
    "    mutade_pop = reproduction.mutation(new_pop.copy())\n",
    "    fit_mutated = fit.set_fitness(mutade_pop.copy())\n",
    "    fit_final = fit.get_fitness()\n",
    "    result_pop = elitism.saveTheBest(pop.copy(), mutade_pop.copy(),\n",
    "                                     fit_initial.copy(), fit_final.copy())\n",
    "    \n",
    "    pop.clear()\n",
    "    selected_population.clear()\n",
    "    new_pop.clear()\n",
    "    # new generation\n",
    "    pop = result_pop.copy()\n",
    "    \n",
    "    mutade_pop.clear()\n",
    "    result_pop.clear()\n",
    "    fit.empty_list_fitness()\n",
    "\n",
    "    i += 1\n",
    "except KeyboardInterrupt:\n",
    "  print(\"interrupt received, stopping...\")\n",
    "finally:\n",
    "  print(pop.copy())\n",
    "  print(min_fitness)\n",
    "  ax.plot(min_fitness, 'r')\n",
    "  ay.plot(max_fitness)\n",
    "  az.plot(total_fitness)\n",
    "  plt.show()\n",
    "  \n",
    "  "
   ]
  },
  {
   "cell_type": "markdown",
   "metadata": {},
   "source": [
    "#### função 1\n",
    "Em cada execução foi utilizado um população inicial aleatória diferente. A coluna seção refere-se à seção onde os gráficos resultantes estão localizados.\n",
    "\n",
    "|Pc|Pm|Lambda|nº de gerações: 1º execução| nº de gerações: 2º execução| nº de gerações: 3º execução| seção |\n",
    "|--|--|--|--|--|--|--|\n",
    "|60%|1%|0.1|50|30|35|1|\n",
    "|60%|2%|0.3|40|30|48|2|\n",
    "|60%|3%|0.3|25|37|28|3|\n",
    "|70%|1%|0.3|45|35|35|4|\n",
    "|80%|1%|0.3|30|50|40|5|\n",
    "|60%|1%|0.2|40|40|40|6|"
   ]
  },
  {
   "cell_type": "markdown",
   "metadata": {},
   "source": [
    "#### função 6"
   ]
  },
  {
   "cell_type": "markdown",
   "metadata": {},
   "source": [
    "Em cada execução foi utilizado um população inicial aleatória diferente\n",
    "\n",
    "|Pc|Pm|Lambda|nº de gerações: 1º execução| nº de gerações: 2º execução| nº de gerações: 3º execução|seção |\n",
    "|--|--|--|--|--|--|--|\n",
    "|60%|1%|0.1|200|400|400|7|\n",
    "|60%|2%|0.3|400|400|400|8|\n",
    "|60%|3%|0.3|400|400|400|9|\n",
    "|70%|1%|0.3|400|400|400|10|\n",
    "|80%|1%|0.3|400|400|400|11|\n",
    "|60%|1%|0.2|400|400|400|12|"
   ]
  },
  {
   "cell_type": "markdown",
   "metadata": {},
   "source": [
    "### Gráficos resultantes dos experimentos"
   ]
  },
  {
   "cell_type": "markdown",
   "metadata": {},
   "source": [
    "A seguir, os gráficos gerados pelas execuções dos algoritmo com os parametros atribuídas na tabela acima. Em cada figura está expresso no eixo x o número de fitness gerados, e no eixo y os respectivos valores de cada fitness gerado. O valor de x divido por 100 é igual ao número de gerações.\n",
    "\n",
    "Para cada conjunto de parâmetros definidos nas tabelas supracitadas, o algorítmo é executado três vezes, resultando em três gráficos. Abaixo são exibidos os gráficos resultantes.\n",
    "\n",
    "Nos gráficos da função 1 os valores de fitness dos cromossomos convergem e chegam ao valor zero, enquanto na função 6 aproximam-se de zero e, em seguida, estabilizam-se em 15."
   ]
  },
  {
   "cell_type": "markdown",
   "metadata": {},
   "source": [
    "#### Seção 1"
   ]
  },
  {
   "cell_type": "markdown",
   "metadata": {},
   "source": [
    "* **Taxa de crossover:** 60%\n",
    "* **Taxa de mutação:** 1%\n",
    "* **Valor de lambda:** 0.1\n",
    "\n",
    "![figura_1](benchmark_1/images/figura_1.png)\n",
    "![figura_2](benchmark_1/images/Figure_2.png)\n",
    "![figura_3](benchmark_1/images/Figure_3.png)"
   ]
  },
  {
   "cell_type": "markdown",
   "metadata": {},
   "source": [
    "#### Seção 2"
   ]
  },
  {
   "cell_type": "markdown",
   "metadata": {},
   "source": [
    "* **Taxa de crossover:** 60%\n",
    "* **Taxa de mutação:** 2%\n",
    "* **Valor de lambda:** 0.3\n",
    "\n",
    "![figura_4](benchmark_1/images/Figure_4.png)\n",
    "![figura_5](benchmark_1/images/Figure_5.png)\n",
    "![figura_6](benchmark_1/images/Figure_6.png)"
   ]
  },
  {
   "cell_type": "markdown",
   "metadata": {},
   "source": [
    "#### Seção 3"
   ]
  },
  {
   "cell_type": "markdown",
   "metadata": {},
   "source": [
    "* **Taxa de crossover:** 60%\n",
    "* **Taxa de mutação:** 3%\n",
    "* **Valor de lambda:** 0.3\n",
    "\n",
    "![figura_7](benchmark_1/images/Figure_7.png)\n",
    "![figura_8](benchmark_1/images/Figure_8.png)\n",
    "![figura_9](benchmark_1/images/Figure_9.png)"
   ]
  },
  {
   "cell_type": "markdown",
   "metadata": {},
   "source": [
    "#### Seção 4"
   ]
  },
  {
   "cell_type": "markdown",
   "metadata": {},
   "source": [
    "* **Taxa de crossover:** 70%\n",
    "* **Taxa de mutação:** 1%\n",
    "* **Valor de lambda:** 0.3\n",
    "\n",
    "![figura_10](benchmark_1/images/Figure_10.png)\n",
    "![figura_11](benchmark_1/images/Figure_11.png)\n",
    "![figura_12](benchmark_1/images/Figure_12.png)"
   ]
  },
  {
   "cell_type": "markdown",
   "metadata": {},
   "source": [
    "#### Seção 5"
   ]
  },
  {
   "cell_type": "markdown",
   "metadata": {},
   "source": [
    "* **Taxa de crossover:** 80%\n",
    "* **Taxa de mutação:** 1%\n",
    "* **Valor de lambda:** 0.3\n",
    "\n",
    "![figura_13](benchmark_1/images/Figure_13.png)\n",
    "![figura_14](benchmark_1/images/Figure_14.png)\n",
    "![figura_15](benchmark_1/images/Figure_15.png)"
   ]
  },
  {
   "cell_type": "markdown",
   "metadata": {},
   "source": [
    "#### Seção 6"
   ]
  },
  {
   "cell_type": "markdown",
   "metadata": {},
   "source": [
    "* **Taxa de crossover:** 60%\n",
    "* **Taxa de mutação:** 1%\n",
    "* **Valor de lambda:** 0.2\n",
    "\n",
    "![figura_16](benchmark_1/images/Figure_16.png)\n",
    "![figura_17](benchmark_1/images/Figure_17.png)\n",
    "![figura_18](benchmark_1/images/Figure_18.png)"
   ]
  },
  {
   "cell_type": "markdown",
   "metadata": {},
   "source": [
    "#### Seção 7"
   ]
  },
  {
   "cell_type": "markdown",
   "metadata": {},
   "source": [
    "* **Taxa de crossover:** 60%\n",
    "* **Taxa de mutação:** 1%\n",
    "* **Valor de lambda:** 0.1\n",
    "\n",
    "![figura_19](benchmark_6/images/figura_1.png)\n",
    "![figura_20](benchmark_6/images/figura_2.png)\n",
    "![figura_21](benchmark_6/images/figura_3.png)"
   ]
  },
  {
   "cell_type": "markdown",
   "metadata": {},
   "source": [
    "#### Seção 8"
   ]
  },
  {
   "cell_type": "markdown",
   "metadata": {},
   "source": [
    "* **Taxa de crossover:** 60%\n",
    "* **Taxa de mutação:** 2%\n",
    "* **Valor de lambda:** 0.3\n",
    "\n",
    "![figura_22](benchmark_6/images/figura_4.png)\n",
    "![figura_23](benchmark_6/images/figura_5.png)\n",
    "![figura_24](benchmark_6/images/figura_6.png)"
   ]
  },
  {
   "cell_type": "markdown",
   "metadata": {},
   "source": [
    "#### Seção 9"
   ]
  },
  {
   "cell_type": "markdown",
   "metadata": {},
   "source": [
    "* **Taxa de crossover:** 60%\n",
    "* **Taxa de mutação:** 3%\n",
    "* **Valor de lambda:** 0.3\n",
    "\n",
    "![figura_25](benchmark_6/images/figura_7.png)\n",
    "![figura_26](benchmark_6/images/figura_8.png)\n",
    "![figura_27](benchmark_6/images/figura_9.png)"
   ]
  },
  {
   "cell_type": "markdown",
   "metadata": {},
   "source": [
    "#### Seção 10"
   ]
  },
  {
   "cell_type": "markdown",
   "metadata": {},
   "source": [
    "* **Taxa de crossover:** 70%\n",
    "* **Taxa de mutação:** 1%\n",
    "* **Valor de lambda:** 0.3\n",
    "\n",
    "![figura_28](benchmark_6/images/figura_10.png)\n",
    "![figura_29](benchmark_6/images/figura_11.png)\n",
    "![figura_30](benchmark_6/images/figura_12.png)"
   ]
  },
  {
   "cell_type": "markdown",
   "metadata": {},
   "source": [
    "#### Seção 11"
   ]
  },
  {
   "cell_type": "markdown",
   "metadata": {},
   "source": [
    "* **Taxa de crossover:** 80%\n",
    "* **Taxa de mutação:** 1%\n",
    "* **Valor de lambda:** 0.3\n",
    "\n",
    "![figura_31](benchmark_6/images/figura_13.png)\n",
    "![figura_32](benchmark_6/images/figura_14.png)\n",
    "![figura_33](benchmark_6/images/figura_15.png)"
   ]
  },
  {
   "cell_type": "markdown",
   "metadata": {},
   "source": [
    "#### Seção 12"
   ]
  },
  {
   "cell_type": "markdown",
   "metadata": {},
   "source": [
    "* **Taxa de crossover:** 60%\n",
    "* **Taxa de mutação:** 1%\n",
    "* **Valor de lambda:** 0.2\n",
    "\n",
    "![figura_34](benchmark_6/images/figura_16.png)\n",
    "![figura_35](benchmark_6/images/figura_17.png)\n",
    "![figura_36](benchmark_6/images/figura_18.png)"
   ]
  }
 ],
 "metadata": {
  "kernelspec": {
   "display_name": "Python 3",
   "language": "python",
   "name": "python3"
  },
  "language_info": {
   "codemirror_mode": {
    "name": "ipython",
    "version": 3
   },
   "file_extension": ".py",
   "mimetype": "text/x-python",
   "name": "python",
   "nbconvert_exporter": "python",
   "pygments_lexer": "ipython3",
   "version": "3.5.3"
  }
 },
 "nbformat": 4,
 "nbformat_minor": 2
}
