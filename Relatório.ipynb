{
 "cells": [
  {
   "cell_type": "markdown",
   "metadata": {},
   "source": [
    "#### Marco Aurélio Souza\n",
    "#### Paulo R. K. Nakaima\n",
    "#### Rodrigo R. Veras"
   ]
  },
  {
   "cell_type": "markdown",
   "metadata": {},
   "source": [
    "### Cromossomo"
   ]
  },
  {
   "cell_type": "code",
   "execution_count": null,
   "metadata": {},
   "outputs": [],
   "source": [
    "class Cromossoma:\n",
    "  cromossoma = []\n",
    "  \n",
    "  def make_cromossoma(self):\n",
    "    for i in range(30):\n",
    "      gene = round(random.uniform(-100, 100), 3)\n",
    "      self.cromossoma.append(gene)\n",
    "    return self.cromossoma\n",
    "  \n",
    "  def empty(self):\n",
    "    self.cromossoma.clear()"
   ]
  },
  {
   "cell_type": "markdown",
   "metadata": {},
   "source": [
    "### População"
   ]
  },
  {
   "cell_type": "code",
   "execution_count": null,
   "metadata": {},
   "outputs": [],
   "source": [
    "class Population:\n",
    "  population = []\n",
    "  def init_population(self):\n",
    "    cromossoma = Cromossoma()\n",
    "    l = 0\n",
    "    while (l < 10):\n",
    "      ind = cromossoma.make_cromossoma()\n",
    "      self.population.append(ind.copy())\n",
    "      l = 1 + l\n",
    "      cromossoma.empty()\n",
    "\n",
    "  def get_population(self):\n",
    "    return self.population\n",
    "  \n",
    "  def empty(self):\n",
    "    self.population.clear()\n",
    " "
   ]
  },
  {
   "cell_type": "markdown",
   "metadata": {},
   "source": [
    "### Fitness da função 1"
   ]
  },
  {
   "cell_type": "code",
   "execution_count": null,
   "metadata": {},
   "outputs": [],
   "source": [
    "class Fitness:\n",
    "  fitness = 0\n",
    "  list_fitness = []\n",
    "  def set_fitness(self, population):\n",
    "    sm = 0 \n",
    "    for cromossoma in population:\n",
    "      sm = 0\n",
    "      for gene in cromossoma:\n",
    "        sm = gene**2 + sm\n",
    "\n",
    "      self.fitness = sm\n",
    "      self.list_fitness.append(self.fitness)\n",
    "      self.fitness = 0\n",
    "  def get_fitness(self):\n",
    "    return self.list_fitness\n",
    "  def empty_list_fitness(self):\n",
    "    self.list_fitness.clear()"
   ]
  },
  {
   "cell_type": "markdown",
   "metadata": {},
   "source": [
    "### Fitness da função 2"
   ]
  },
  {
   "cell_type": "code",
   "execution_count": null,
   "metadata": {},
   "outputs": [],
   "source": [
    "class Fitness:\n",
    "  fitness = 0\n",
    "  list_fitness = []\n",
    "  def set_fitness(self, population):\n",
    "    sm = 0\n",
    "    for cromossoma in population:\n",
    "      sm = 0\n",
    "      for gene in cromossoma:\n",
    "      \n",
    "        sm += (gene + 0.5)\n",
    "      \n",
    "      self.fitness = round(sm, 2)\n",
    "      self.list_fitness.append(self.fitness)\n",
    "      self.fitness = 0\n",
    "      \n",
    "  def get_fitness(self):\n",
    "    return self.list_fitness\n",
    "  def empty_list_fitness(self):\n",
    "    self.list_fitness.clear()"
   ]
  },
  {
   "cell_type": "markdown",
   "metadata": {},
   "source": [
    "### Seleção"
   ]
  },
  {
   "cell_type": "code",
   "execution_count": null,
   "metadata": {},
   "outputs": [],
   "source": [
    "import random\n",
    "\n",
    "class Selection:\n",
    "\n",
    "  probabilities = []\n",
    "  probability = 0\n",
    "  acumulateds = [] \n",
    "  randomNumbers = []\n",
    "  newPopulation = []\n",
    "\n",
    "  def calcule_probabilities(self, fitnessList):\n",
    "    self.probabilities.clear()\n",
    "    sumFitness = 0\n",
    "    for fitness in fitnessList:\n",
    "      sumFitness = fitness + sumFitness\n",
    "  \n",
    "    for fitness in fitnessList:\n",
    "      self.probability = fitness/sumFitness\n",
    "      self.probabilities.append(self.probability)\n",
    "\n",
    "  def acumulated_probabilities(self):\n",
    "    self.acumulateds.clear()\n",
    "    for i in range(len(self.probabilities)):\n",
    "      sumProbs = 0\n",
    "      for j in range(i, -1, -1):\n",
    "        sumProbs = self.probabilities[j] + sumProbs\n",
    "      self.acumulateds.append(sumProbs)\n",
    "  \n",
    "  def generate_random_numbers(self, n):\n",
    "    self.randomNumbers.clear()\n",
    "    \n",
    "    for i in range(n):\n",
    "      self.randomNumbers.append(round(random.uniform(-1, 1), 3))\n",
    "\n",
    "  def run_roulette(self, fitnessList):\n",
    "    positions = []\n",
    "    \n",
    "    self.calcule_probabilities(fitnessList)\n",
    "    self.acumulated_probabilities()\n",
    "    self.generate_random_numbers(len(fitnessList))\n",
    "\n",
    "    for randomNumber in self.randomNumbers:\n",
    "      for acumulated in self.acumulateds:\n",
    "        if(acumulated >= randomNumber):\n",
    "          positions.append(self.acumulateds.index(acumulated))\n",
    "          break\n",
    "\n",
    "    return positions\n",
    "\n",
    "  def get_new_population(self, fitnessList, oldPopulation):\n",
    "    positions = self.run_roulette(fitnessList)\n",
    "    self.newPopulation.clear()\n",
    "    \n",
    "    for position in positions:\n",
    "      self.newPopulation.append(oldPopulation[position])\n",
    "    \n",
    "    return self.newPopulation"
   ]
  },
  {
   "cell_type": "markdown",
   "metadata": {},
   "source": [
    "### Crossover e Mutação"
   ]
  },
  {
   "cell_type": "code",
   "execution_count": null,
   "metadata": {},
   "outputs": [],
   "source": [
    "class Reproduction:\n",
    "  \n",
    "  _Pc = 0.8\n",
    "  _Pm = 0.01\n",
    "  def generate_random_numbers(self, n):\n",
    "    randomNumbers = [] \n",
    "    # n é o tamanho da população\n",
    "    # gerar número aleatórios de 0 a 1\n",
    "    for i in range(n):\n",
    "      randomNumbers.append(round(random.uniform(0, 1), 3))\n",
    "    return randomNumbers\n",
    "  \n",
    "  def selecting_individuals(self, n):\n",
    "    positions = []\n",
    "    randomNumbers = self.generate_random_numbers(n)\n",
    "\n",
    "    for randomNumber in randomNumbers:\n",
    "      if(randomNumber <= self._Pc):\n",
    "        positions.append(randomNumbers.index(randomNumber))\n",
    "\n",
    "    return positions\n",
    "  \n",
    "  def defining_engageds(self, n):\n",
    "    positions = self.selecting_individuals(n)\n",
    "    engageds = []\n",
    "\n",
    "    i = 0\n",
    "    if(len(positions)%2 == 0):\n",
    "      while(i < len(positions)):\n",
    "        \n",
    "        engageds.append([positions[i], positions[i + 1]])\n",
    "        i = i + 2\n",
    "    else:\n",
    "      while(i < len(positions) - 1):\n",
    "        engageds.append([positions[i], positions[i + 1]])\n",
    "        i = i + 2\n",
    "\n",
    "    return engageds # pares cruzantes de posiçoes da nova população\n",
    "  \n",
    "  def crossover(self, newPopulation):\n",
    "    \n",
    "    engageds = self.defining_engageds(len(newPopulation))\n",
    "    \n",
    "    for engaged in engageds:\n",
    "      crossover_point = random.randint(1, 29)\n",
    "      \n",
    "      cromossoma_1 = newPopulation[engaged[0]]\n",
    "      cromossoma_2 = newPopulation[engaged[1]]\n",
    "\n",
    "      cromossoma_copy_1 = cromossoma_1.copy()\n",
    "      cromossoma_copy_2 = cromossoma_2.copy()\n",
    "      \n",
    "      childs = arithmetic_crossover.crossover(cromossoma_copy_1, cromossoma_copy_2, 0.3)\n",
    "\n",
    "      newPopulation[engaged[0]] = childs[0]\n",
    "      newPopulation[engaged[1]] = childs[1]\n",
    "    \n",
    "    return newPopulation\n",
    "  \n",
    "  def mutation(self, population):\n",
    "    row_length = len(population)\n",
    "    column_length = len(population[0])\n",
    "\n",
    "    mutation_points = []\n",
    "    matrix_rand = np.zeros([row_length,column_length], dtype=float)\n",
    "\n",
    "    for i in range(row_length): \n",
    "      for j in range(column_length):\n",
    "        \n",
    "        matrix_rand[i][j] = round(random.uniform(0, 1), 3)\n",
    "        \n",
    "        if (matrix_rand[i][j] <= self._Pm):\n",
    "          mutation_points.append([i, j])\n",
    "    \n",
    "    for point in mutation_points:\n",
    "      \n",
    "      current_gene = population[point[0]][point[1]]\n",
    "      population[point[0]][point[1]] = current_gene * 0.02\n",
    "    \n",
    "    return population\n"
   ]
  },
  {
   "cell_type": "markdown",
   "metadata": {},
   "source": [
    "### Sobreviventes"
   ]
  },
  {
   "cell_type": "code",
   "execution_count": null,
   "metadata": {},
   "outputs": [],
   "source": [
    "class Elitism:\n",
    "\n",
    "\n",
    "  def saveTheBest(self, population_initial, population_final, fit_initial, fit_final):\n",
    "    best_fit_initial = max(fit_initial)\n",
    "    best_fit_final = max(fit_final)\n",
    "\n",
    "    worst_fit_final = min(fit_final)\n",
    "    position_worst_final = fit_final.index(worst_fit_final)\n",
    "    position_best_initial = fit_initial.index(worst_fit_final)\n",
    "     \n",
    "    cromossoma_tam = len(population_final[position_best_initial])\n",
    "      \n",
    "    for i in range(0, cromossoma_tam):\n",
    "      population_final[position_worst_final][i] = population_initial[position_best_initial][i]\n",
    "\n",
    "   \n",
    "\n",
    "    return population_final"
   ]
  },
  {
   "cell_type": "markdown",
   "metadata": {},
   "source": [
    "![fitness](assets/Fitness_1.png)"
   ]
  },
  {
   "cell_type": "markdown",
   "metadata": {},
   "source": [
    "![fitness 6](assets/Fitness_6.png)"
   ]
  },
  {
   "cell_type": "markdown",
   "metadata": {},
   "source": [
    "![fitness_6_2](assets/Fitness_6_2.png)"
   ]
  },
  {
   "cell_type": "markdown",
   "metadata": {},
   "source": [
    "![fitness_6_3](assets/Figure_6.png)"
   ]
  },
  {
   "cell_type": "markdown",
   "metadata": {},
   "source": [
    "#### função 1\n",
    "|Pc|Pm|Lambda|Gerações|\n",
    "|:-:|:-:|:-:-|:-:-:-:-|\n",
    "|60%|1%|10%|         |\n",
    "|60%|2%|30%|  |\n"
   ]
  },
  {
   "cell_type": "markdown",
   "metadata": {},
   "source": [
    "0.6 <= pc <=0.8 and 0.01 <= pm <= 0.03 and 0.1 <= lamb <= 0.3 número de gerações: 200, tamanho da populção: 100, executado três vezes para cada caso"
   ]
  },
  {
   "cell_type": "code",
   "execution_count": null,
   "metadata": {},
   "outputs": [],
   "source": []
  }
 ],
 "metadata": {
  "kernelspec": {
   "display_name": "Python 3",
   "language": "python",
   "name": "python3"
  },
  "language_info": {
   "codemirror_mode": {
    "name": "ipython",
    "version": 3
   },
   "file_extension": ".py",
   "mimetype": "text/x-python",
   "name": "python",
   "nbconvert_exporter": "python",
   "pygments_lexer": "ipython3",
   "version": "3.5.3"
  }
 },
 "nbformat": 4,
 "nbformat_minor": 2
}
